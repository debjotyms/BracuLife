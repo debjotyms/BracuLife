{
  "nbformat": 4,
  "nbformat_minor": 0,
  "metadata": {
    "colab": {
      "name": "Assignment_5.ipynb",
      "provenance": []
    },
    "kernelspec": {
      "name": "python3",
      "display_name": "Python 3"
    },
    "language_info": {
      "name": "python"
    }
  },
  "cells": [
    {
      "cell_type": "code",
      "execution_count": null,
      "metadata": {
        "colab": {
          "base_uri": "https://localhost:8080/"
        },
        "id": "ddyCDxvzqwJJ",
        "outputId": "c0c540d1-f764-4a9d-e292-fa4384d88b1e"
      },
      "outputs": [
        {
          "output_type": "stream",
          "name": "stdout",
          "text": [
            "400\n"
          ]
        }
      ],
      "source": [
        "#Task_1\n",
        "a_tuple = (\"The Institute\", (\"Best Mystery & Thriller\", \"The Silent Patient\", 68821), 75717,[1, 2, 3, 400, 5, 6, 7], (\"Best Fiction\", \"The Testaments\", 98291))\n",
        "print(a_tuple[3][3])"
      ]
    },
    {
      "cell_type": "code",
      "source": [
        "#Task_2\n",
        "a_tuple = (10, 20, 24, 25, 26, 35, 70)\n",
        "a_tuple = a_tuple[2:-2]\n",
        "print(a_tuple)"
      ],
      "metadata": {
        "colab": {
          "base_uri": "https://localhost:8080/"
        },
        "id": "35p1D1PTr3y3",
        "outputId": "8243f5cf-93e3-4b01-b363-51938e694799"
      },
      "execution_count": null,
      "outputs": [
        {
          "output_type": "stream",
          "name": "stdout",
          "text": [
            "(24, 25, 26)\n"
          ]
        }
      ]
    },
    {
      "cell_type": "code",
      "source": [
        "#Task_3\n",
        "a_tuple = book_info = (\n",
        "(\"Best Mystery & Thriller\",\"The Silent Patient\",68,821),\n",
        "(\"Best Horror\",\"The Institute\",75,717),\n",
        "(\"Best History & Biography\",\"The five\",31,783 ),\n",
        "(\"Best Fiction\",\"The Testaments\",98,291)\n",
        ")\n",
        "print(f\"Size of the tuple is: {len(a_tuple)}\")\n",
        "for i in a_tuple:\n",
        "  print(i)"
      ],
      "metadata": {
        "id": "J09XG6hVQxQr",
        "colab": {
          "base_uri": "https://localhost:8080/"
        },
        "outputId": "e91282ef-32a4-43b9-ff38-7c1fee7af41d"
      },
      "execution_count": 2,
      "outputs": [
        {
          "output_type": "stream",
          "name": "stdout",
          "text": [
            "Size of the tuple is: 4\n",
            "('Best Mystery & Thriller', 'The Silent Patient', 68, 821)\n",
            "('Best Horror', 'The Institute', 75, 717)\n",
            "('Best History & Biography', 'The five', 31, 783)\n",
            "('Best Fiction', 'The Testaments', 98, 291)\n"
          ]
        }
      ]
    },
    {
      "cell_type": "code",
      "source": [
        "#Task_4\n",
        "book_info = (\n",
        "(\"Best Mystery & Thriller\",\"The Silent Patient\",68821),\n",
        "(\"Best Horror\",\"The Institute\",75717),\n",
        "(\"Best History & Biography\",\"The five\",31783 ),\n",
        "(\"Best Fiction\",\"The Testaments\",98291)\n",
        ")\n",
        "for i in book_info:\n",
        "  a,b,c = i\n",
        "  print(f\"{b} won the '{a}' category with  {c} votes\")"
      ],
      "metadata": {
        "colab": {
          "base_uri": "https://localhost:8080/"
        },
        "id": "LXKNcI1mtpIZ",
        "outputId": "69d03633-b8de-48c4-c3e4-d4cb86cf46eb"
      },
      "execution_count": null,
      "outputs": [
        {
          "output_type": "stream",
          "name": "stdout",
          "text": [
            "The Silent Patient won the 'Best Mystery & Thriller' category with  68821 votes\n",
            "The Institute won the 'Best Horror' category with  75717 votes\n",
            "The five won the 'Best History & Biography' category with  31783 votes\n",
            "The Testaments won the 'Best Fiction' category with  98291 votes\n"
          ]
        }
      ]
    },
    {
      "cell_type": "code",
      "source": [
        "#Task_5\n",
        "a_tuple = (10, 8, 5, 2, 10, 15, 10, 8, 5, 8, 8, 2)\n",
        "count = 0\n",
        "a = int(input())\n",
        "for i in a_tuple:\n",
        "    if(i==a):\n",
        "        count+=1\n",
        "print(f\"{a} appears {count} times in the tuple\")"
      ],
      "metadata": {
        "colab": {
          "base_uri": "https://localhost:8080/"
        },
        "id": "K5Jwnx4jC6cA",
        "outputId": "241dfd36-900c-4ff6-bf70-3055a65fb6e1"
      },
      "execution_count": 3,
      "outputs": [
        {
          "output_type": "stream",
          "name": "stdout",
          "text": [
            "1\n",
            "1 appears 0 times in the tuple\n"
          ]
        }
      ]
    },
    {
      "cell_type": "code",
      "source": [
        "#Task_6\n",
        "a_tuple = ('a', 'b', 'c', 'd', 'e', 'f', 'g', 'h')\n",
        "a_list = list(a_tuple)\n",
        "a_list = a_list[::-1]\n",
        "a_tuple = tuple(a_list)\n",
        "print(a_tuple)"
      ],
      "metadata": {
        "colab": {
          "base_uri": "https://localhost:8080/"
        },
        "id": "iJja8Mgavm8G",
        "outputId": "22af4e08-4b26-4671-8cb1-ece8a66b690f"
      },
      "execution_count": null,
      "outputs": [
        {
          "output_type": "stream",
          "name": "stdout",
          "text": [
            "('h', 'g', 'f', 'e', 'd', 'c', 'b', 'a')\n"
          ]
        }
      ]
    },
    {
      "cell_type": "code",
      "source": [
        "#Task_7\n",
        "dic_a = {'Harry':15, 'Draco':8, 'Nevil':19}\n",
        "dic_b = {'Ginie':18, 'Luna': 14}\n",
        "marks = {}\n",
        "marks.update(dic_a)\n",
        "marks.update(dic_b)\n",
        "print(marks)"
      ],
      "metadata": {
        "colab": {
          "base_uri": "https://localhost:8080/"
        },
        "id": "0eSdyeq1FPN-",
        "outputId": "b28ea504-5714-41f4-970f-86d24a43dd05"
      },
      "execution_count": 4,
      "outputs": [
        {
          "output_type": "stream",
          "name": "stdout",
          "text": [
            "{'Harry': 15, 'Draco': 8, 'Nevil': 19, 'Ginie': 18, 'Luna': 14}\n"
          ]
        }
      ]
    },
    {
      "cell_type": "code",
      "source": [
        "#Task_8\n",
        "sdic = input()\n",
        "sdic = sdic[1:-1]\n",
        "dic_list = sdic.split(',')\n",
        "dsum = 0\n",
        "slen = 0\n",
        "for i in dic_list:\n",
        "  s = i\n",
        "  slist = s.split(':')\n",
        "  value = int(slist[1])\n",
        "  dsum+=value\n",
        "  slen+=1\n",
        "avrg = dsum/slen\n",
        "if(avrg == int(avrg)):\n",
        "  print(\"Average is\",int(avrg))\n",
        "else:\n",
        "  print(\"Average is\",(avrg))"
      ],
      "metadata": {
        "colab": {
          "base_uri": "https://localhost:8080/"
        },
        "id": "3J205dsIy4u-",
        "outputId": "d2482381-03d8-4a34-941d-7d418ddb5a2c"
      },
      "execution_count": null,
      "outputs": [
        {
          "output_type": "stream",
          "name": "stdout",
          "text": [
            "{'Jon': 100, 'Dan':200, 'Rob':300}\n",
            "Average is 200\n"
          ]
        }
      ]
    },
    {
      "cell_type": "code",
      "source": [
        "#Task_9\n",
        "exam_marks = {'Cierra Vega': 175, 'Alden Cantrell': 200, 'Kierra Gentry': 165, 'Pierre Cox': 190}\n",
        "exam_marks_2 = {}\n",
        "exam_marks_2.update(exam_marks)\n",
        "a = int(input())\n",
        "for i in exam_marks:\n",
        "    if(exam_marks_2[i]<a):\n",
        "        exam_marks_2.pop(i)\n",
        "print(exam_marks_2)"
      ],
      "metadata": {
        "colab": {
          "base_uri": "https://localhost:8080/"
        },
        "id": "0MtAMmrCGket",
        "outputId": "93b894ec-40ec-4254-8376-22df8603404d"
      },
      "execution_count": 6,
      "outputs": [
        {
          "output_type": "stream",
          "name": "stdout",
          "text": [
            "190\n",
            "{'Alden Cantrell': 200, 'Pierre Cox': 190}\n"
          ]
        }
      ]
    },
    {
      "cell_type": "code",
      "source": [
        "#Task_10\n",
        "sdic = {'sci fi': 12, 'mystery': 15, 'horror': 8, 'mythology': 10, 'young_adult': 4, 'adventure':14}\n",
        "dicMaxk = 0\n",
        "dicMaxv = float('-inf')\n",
        "for i in sdic:\n",
        "  if sdic[i]>dicMaxv:\n",
        "    dicMaxv = sdic[i]\n",
        "    dicMaxk = i\n",
        "print(f\"The highest selling book genre is '{dicMaxk}' and the number of books sold are {dicMaxv}.\")"
      ],
      "metadata": {
        "colab": {
          "base_uri": "https://localhost:8080/"
        },
        "id": "yty_-UQf6Opt",
        "outputId": "65cff6d2-3f35-4f41-ee70-f8d511732e3c"
      },
      "execution_count": null,
      "outputs": [
        {
          "output_type": "stream",
          "name": "stdout",
          "text": [
            "The highest selling book genre is 'mystery' and the number of books sold are 15.\n"
          ]
        }
      ]
    },
    {
      "cell_type": "code",
      "source": [
        "#Task_11\n",
        "s = input()\n",
        "s = s.lower()\n",
        "s = s.replace(' ','')\n",
        "dic_s = {}\n",
        "for i in s:\n",
        "    dic_s[i]=0\n",
        "for i in s:\n",
        "    dic_s[i]+=1\n",
        "print(dic_s)"
      ],
      "metadata": {
        "colab": {
          "base_uri": "https://localhost:8080/"
        },
        "id": "fkPRkebdJjdv",
        "outputId": "d0be04e0-d30a-4119-ed03-495f2235e972"
      },
      "execution_count": 5,
      "outputs": [
        {
          "output_type": "stream",
          "name": "stdout",
          "text": [
            "Python programming is fun\n",
            "{'p': 2, 'y': 1, 't': 1, 'h': 1, 'o': 2, 'n': 3, 'r': 2, 'g': 2, 'a': 1, 'm': 2, 'i': 2, 's': 1, 'f': 1, 'u': 1}\n"
          ]
        }
      ]
    },
    {
      "cell_type": "code",
      "source": [
        "#Task_12\n",
        "dic = {'A': [1, 2, 3], 'b': ['1', '2'], \"c\": [4, 5, 6, 7]}\n",
        "count = 0\n",
        "for i in dic:\n",
        "  count+=len(dic[i])\n",
        "print(count)"
      ],
      "metadata": {
        "colab": {
          "base_uri": "https://localhost:8080/"
        },
        "id": "aUlLBOIX9fZn",
        "outputId": "aa7dec86-79fa-4c78-df1c-092d7c0c2754"
      },
      "execution_count": null,
      "outputs": [
        {
          "output_type": "stream",
          "name": "stdout",
          "text": [
            "9\n"
          ]
        }
      ]
    },
    {
      "cell_type": "code",
      "source": [
        "#Task_13\n",
        "dict_1 = {'A': [1, 2, 3], 'b': ['1', '2'], \"c\": [4, 5, 6, 7]}\n",
        "count = 0\n",
        "for i in dict_1:\n",
        "    for j in dict_1[i]:\n",
        "        count+=1\n",
        "print(count)"
      ],
      "metadata": {
        "colab": {
          "base_uri": "https://localhost:8080/"
        },
        "id": "h3C3BN40Oc3-",
        "outputId": "21a14e39-0f45-4801-80d6-a32153bfbf26"
      },
      "execution_count": 7,
      "outputs": [
        {
          "output_type": "stream",
          "name": "stdout",
          "text": [
            "9\n"
          ]
        }
      ]
    }
  ]
}