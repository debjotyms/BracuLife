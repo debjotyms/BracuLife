{
  "cells": [
    {
      "cell_type": "markdown",
      "metadata": {},
      "source": [
        "All the tasks are here: https://drive.google.com/file/d/1PkE6wyuAgNxoScJkn_-9V-sGvreN28oC/view?usp=sharing"
      ]
    },
    {
      "cell_type": "code",
      "execution_count": null,
      "metadata": {
        "colab": {
          "base_uri": "https://localhost:8080/"
        },
        "id": "ddyCDxvzqwJJ",
        "outputId": "c0c540d1-f764-4a9d-e292-fa4384d88b1e"
      },
      "outputs": [
        {
          "name": "stdout",
          "output_type": "stream",
          "text": [
            "400\n"
          ]
        }
      ],
      "source": [
        "#Task_1\n",
        "a_tuple = (\"The Institute\", (\"Best Mystery & Thriller\", \"The Silent Patient\", 68821), 75717,[1, 2, 3, 400, 5, 6, 7], (\"Best Fiction\", \"The Testaments\", 98291))\n",
        "print(a_tuple[3][3])"
      ]
    },
    {
      "cell_type": "code",
      "execution_count": null,
      "metadata": {
        "colab": {
          "base_uri": "https://localhost:8080/"
        },
        "id": "35p1D1PTr3y3",
        "outputId": "8243f5cf-93e3-4b01-b363-51938e694799"
      },
      "outputs": [
        {
          "name": "stdout",
          "output_type": "stream",
          "text": [
            "(24, 25, 26)\n"
          ]
        }
      ],
      "source": [
        "#Task_2\n",
        "a_tuple = (10, 20, 24, 25, 26, 35, 70)\n",
        "a_tuple = a_tuple[2:-2]\n",
        "print(a_tuple)"
      ]
    },
    {
      "cell_type": "code",
      "execution_count": 2,
      "metadata": {
        "colab": {
          "base_uri": "https://localhost:8080/"
        },
        "id": "J09XG6hVQxQr",
        "outputId": "e91282ef-32a4-43b9-ff38-7c1fee7af41d"
      },
      "outputs": [
        {
          "name": "stdout",
          "output_type": "stream",
          "text": [
            "Size of the tuple is: 4\n",
            "('Best Mystery & Thriller', 'The Silent Patient', 68, 821)\n",
            "('Best Horror', 'The Institute', 75, 717)\n",
            "('Best History & Biography', 'The five', 31, 783)\n",
            "('Best Fiction', 'The Testaments', 98, 291)\n"
          ]
        }
      ],
      "source": [
        "#Task_3\n",
        "a_tuple = book_info = (\n",
        "(\"Best Mystery & Thriller\",\"The Silent Patient\",68,821),\n",
        "(\"Best Horror\",\"The Institute\",75,717),\n",
        "(\"Best History & Biography\",\"The five\",31,783 ),\n",
        "(\"Best Fiction\",\"The Testaments\",98,291)\n",
        ")\n",
        "print(f\"Size of the tuple is: {len(a_tuple)}\")\n",
        "for i in a_tuple:\n",
        "  print(i)"
      ]
    },
    {
      "cell_type": "code",
      "execution_count": null,
      "metadata": {
        "colab": {
          "base_uri": "https://localhost:8080/"
        },
        "id": "LXKNcI1mtpIZ",
        "outputId": "69d03633-b8de-48c4-c3e4-d4cb86cf46eb"
      },
      "outputs": [
        {
          "name": "stdout",
          "output_type": "stream",
          "text": [
            "The Silent Patient won the 'Best Mystery & Thriller' category with  68821 votes\n",
            "The Institute won the 'Best Horror' category with  75717 votes\n",
            "The five won the 'Best History & Biography' category with  31783 votes\n",
            "The Testaments won the 'Best Fiction' category with  98291 votes\n"
          ]
        }
      ],
      "source": [
        "#Task_4\n",
        "book_info = (\n",
        "(\"Best Mystery & Thriller\",\"The Silent Patient\",68821),\n",
        "(\"Best Horror\",\"The Institute\",75717),\n",
        "(\"Best History & Biography\",\"The five\",31783 ),\n",
        "(\"Best Fiction\",\"The Testaments\",98291)\n",
        ")\n",
        "for i in book_info:\n",
        "  a,b,c = i\n",
        "  print(f\"{b} won the '{a}' category with  {c} votes\")"
      ]
    },
    {
      "cell_type": "code",
      "execution_count": 3,
      "metadata": {
        "colab": {
          "base_uri": "https://localhost:8080/"
        },
        "id": "K5Jwnx4jC6cA",
        "outputId": "241dfd36-900c-4ff6-bf70-3055a65fb6e1"
      },
      "outputs": [
        {
          "name": "stdout",
          "output_type": "stream",
          "text": [
            "1\n",
            "1 appears 0 times in the tuple\n"
          ]
        }
      ],
      "source": [
        "#Task_5\n",
        "a_tuple = (10, 8, 5, 2, 10, 15, 10, 8, 5, 8, 8, 2)\n",
        "count = 0\n",
        "a = int(input())\n",
        "for i in a_tuple:\n",
        "    if(i==a):\n",
        "        count+=1\n",
        "print(f\"{a} appears {count} times in the tuple\")"
      ]
    },
    {
      "cell_type": "code",
      "execution_count": null,
      "metadata": {
        "colab": {
          "base_uri": "https://localhost:8080/"
        },
        "id": "iJja8Mgavm8G",
        "outputId": "22af4e08-4b26-4671-8cb1-ece8a66b690f"
      },
      "outputs": [
        {
          "name": "stdout",
          "output_type": "stream",
          "text": [
            "('h', 'g', 'f', 'e', 'd', 'c', 'b', 'a')\n"
          ]
        }
      ],
      "source": [
        "#Task_6\n",
        "a_tuple = ('a', 'b', 'c', 'd', 'e', 'f', 'g', 'h')\n",
        "a_list = list(a_tuple)\n",
        "a_list = a_list[::-1]\n",
        "a_tuple = tuple(a_list)\n",
        "print(a_tuple)"
      ]
    },
    {
      "cell_type": "code",
      "execution_count": 4,
      "metadata": {
        "colab": {
          "base_uri": "https://localhost:8080/"
        },
        "id": "0eSdyeq1FPN-",
        "outputId": "b28ea504-5714-41f4-970f-86d24a43dd05"
      },
      "outputs": [
        {
          "name": "stdout",
          "output_type": "stream",
          "text": [
            "{'Harry': 15, 'Draco': 8, 'Nevil': 19, 'Ginie': 18, 'Luna': 14}\n"
          ]
        }
      ],
      "source": [
        "#Task_7\n",
        "dic_a = {'Harry':15, 'Draco':8, 'Nevil':19}\n",
        "dic_b = {'Ginie':18, 'Luna': 14}\n",
        "marks = {}\n",
        "marks.update(dic_a)\n",
        "marks.update(dic_b)\n",
        "print(marks)"
      ]
    },
    {
      "cell_type": "code",
      "execution_count": null,
      "metadata": {
        "colab": {
          "base_uri": "https://localhost:8080/"
        },
        "id": "3J205dsIy4u-",
        "outputId": "d2482381-03d8-4a34-941d-7d418ddb5a2c"
      },
      "outputs": [
        {
          "name": "stdout",
          "output_type": "stream",
          "text": [
            "{'Jon': 100, 'Dan':200, 'Rob':300}\n",
            "Average is 200\n"
          ]
        }
      ],
      "source": [
        "#Task_8\n",
        "sdic = input()\n",
        "sdic = sdic[1:-1]\n",
        "dic_list = sdic.split(',')\n",
        "dsum = 0\n",
        "slen = 0\n",
        "for i in dic_list:\n",
        "  s = i\n",
        "  slist = s.split(':')\n",
        "  value = int(slist[1])\n",
        "  dsum+=value\n",
        "  slen+=1\n",
        "avrg = dsum/slen\n",
        "if(avrg == int(avrg)):\n",
        "  print(\"Average is\",int(avrg))\n",
        "else:\n",
        "  print(\"Average is\",(avrg))"
      ]
    },
    {
      "cell_type": "code",
      "execution_count": 6,
      "metadata": {
        "colab": {
          "base_uri": "https://localhost:8080/"
        },
        "id": "0MtAMmrCGket",
        "outputId": "93b894ec-40ec-4254-8376-22df8603404d"
      },
      "outputs": [
        {
          "name": "stdout",
          "output_type": "stream",
          "text": [
            "190\n",
            "{'Alden Cantrell': 200, 'Pierre Cox': 190}\n"
          ]
        }
      ],
      "source": [
        "#Task_9\n",
        "exam_marks = {'Cierra Vega': 175, 'Alden Cantrell': 200, 'Kierra Gentry': 165, 'Pierre Cox': 190}\n",
        "exam_marks_2 = {}\n",
        "exam_marks_2.update(exam_marks)\n",
        "a = int(input())\n",
        "for i in exam_marks:\n",
        "    if(exam_marks_2[i]<a):\n",
        "        exam_marks_2.pop(i)\n",
        "print(exam_marks_2)"
      ]
    },
    {
      "cell_type": "code",
      "execution_count": null,
      "metadata": {
        "colab": {
          "base_uri": "https://localhost:8080/"
        },
        "id": "yty_-UQf6Opt",
        "outputId": "65cff6d2-3f35-4f41-ee70-f8d511732e3c"
      },
      "outputs": [
        {
          "name": "stdout",
          "output_type": "stream",
          "text": [
            "The highest selling book genre is 'mystery' and the number of books sold are 15.\n"
          ]
        }
      ],
      "source": [
        "#Task_10\n",
        "sdic = {'sci fi': 12, 'mystery': 15, 'horror': 8, 'mythology': 10, 'young_adult': 4, 'adventure':14}\n",
        "dicMaxk = 0\n",
        "dicMaxv = float('-inf')\n",
        "for i in sdic:\n",
        "  if sdic[i]>dicMaxv:\n",
        "    dicMaxv = sdic[i]\n",
        "    dicMaxk = i\n",
        "print(f\"The highest selling book genre is '{dicMaxk}' and the number of books sold are {dicMaxv}.\")"
      ]
    },
    {
      "cell_type": "code",
      "execution_count": 5,
      "metadata": {
        "colab": {
          "base_uri": "https://localhost:8080/"
        },
        "id": "fkPRkebdJjdv",
        "outputId": "d0be04e0-d30a-4119-ed03-495f2235e972"
      },
      "outputs": [
        {
          "name": "stdout",
          "output_type": "stream",
          "text": [
            "Python programming is fun\n",
            "{'p': 2, 'y': 1, 't': 1, 'h': 1, 'o': 2, 'n': 3, 'r': 2, 'g': 2, 'a': 1, 'm': 2, 'i': 2, 's': 1, 'f': 1, 'u': 1}\n"
          ]
        }
      ],
      "source": [
        "#Task_11\n",
        "s = input()\n",
        "s = s.lower()\n",
        "s = s.replace(' ','')\n",
        "dic_s = {}\n",
        "for i in s:\n",
        "    dic_s[i]=0\n",
        "for i in s:\n",
        "    dic_s[i]+=1\n",
        "print(dic_s)"
      ]
    },
    {
      "cell_type": "code",
      "execution_count": null,
      "metadata": {
        "colab": {
          "base_uri": "https://localhost:8080/"
        },
        "id": "aUlLBOIX9fZn",
        "outputId": "aa7dec86-79fa-4c78-df1c-092d7c0c2754"
      },
      "outputs": [
        {
          "name": "stdout",
          "output_type": "stream",
          "text": [
            "9\n"
          ]
        }
      ],
      "source": [
        "#Task_12\n",
        "dic = {'A': [1, 2, 3], 'b': ['1', '2'], \"c\": [4, 5, 6, 7]}\n",
        "count = 0\n",
        "for i in dic:\n",
        "  count+=len(dic[i])\n",
        "print(count)"
      ]
    },
    {
      "cell_type": "code",
      "execution_count": 7,
      "metadata": {
        "colab": {
          "base_uri": "https://localhost:8080/"
        },
        "id": "h3C3BN40Oc3-",
        "outputId": "21a14e39-0f45-4801-80d6-a32153bfbf26"
      },
      "outputs": [
        {
          "name": "stdout",
          "output_type": "stream",
          "text": [
            "9\n"
          ]
        }
      ],
      "source": [
        "#Task_13\n",
        "dict_1 = {'A': [1, 2, 3], 'b': ['1', '2'], \"c\": [4, 5, 6, 7]}\n",
        "count = 0\n",
        "for i in dict_1:\n",
        "    for j in dict_1[i]:\n",
        "        count+=1\n",
        "print(count)"
      ]
    },
    {
      "cell_type": "code",
      "execution_count": null,
      "metadata": {},
      "outputs": [
        {
          "ename": "",
          "evalue": "",
          "output_type": "error",
          "traceback": [
            "\u001b[1;31mRunning cells with 'Python 3.8.10 64-bit' requires ipykernel package.\n",
            "Run the following command to install 'ipykernel' into the Python environment. \n",
            "Command: '/usr/bin/python3 -m pip install ipykernel -U --user --force-reinstall'"
          ]
        }
      ],
      "source": [
        "#Task_14\n",
        "var1 = var2 = var3 = var4 = var5 = var6 = False\n",
        "result1 = result2 = result3 = result4 = result5 = result6 = result7 = result8 = result9 = result10 = False\n",
        "var1 = 4 < 3 - 1\n",
        "var2 = var1 and False\n",
        "var3 = False\n",
        "var4 = True\n",
        "var5 = False\n",
        "var6 = var3 and True\n",
        "result1 = (var1 or var2) and (8 * 10 > 45)\n",
        "result2 = (var1 or var2) and (result1 and False)\n",
        "result3 = (var1 and result1) or result2\n",
        "result4 = (var1 or var2) or ((var3 and var1) and False)\n",
        "result5 = (var1 and var2) and (result3 or var1)\n",
        "result6 = ((var3 or var2) and not result5) or True\n",
        "result7 = (var4 and result1) and ((result1 and False) or True)\n",
        "result8 = ((var1 and result3) and (var5 or var6)) and True\n",
        "result9 = ((result2 and var2) or (result7 and var1)) and False\n",
        "result10 = not(var1 and True)\n",
        "print(result1)\n",
        "print(result2)\n",
        "print(result3)\n",
        "print(result4)\n",
        "print(result5)\n",
        "print(result6)\n",
        "print(result7)\n",
        "print(result8)\n",
        "print(result9)\n",
        "print(result10)"
      ]
    },
    {
      "cell_type": "code",
      "execution_count": null,
      "metadata": {},
      "outputs": [],
      "source": [
        "#Task_15\n",
        "var1 = False\n",
        "var2 = False\n",
        "var3 = False\n",
        "var4 = False\n",
        "var5 = False\n",
        "var6 = False\n",
        "result1 = False\n",
        "result2 = False\n",
        "result3 = False\n",
        "result4 = False\n",
        "result5 = False\n",
        "result6 = False\n",
        "result7 = False\n",
        "result8 = False\n",
        "result9 = False\n",
        "result10 = False\n",
        "var1 = ((not True) or True) and False\n",
        "var2 = var1 and False\n",
        "var3 = True and not False\n",
        "var4 = False\n",
        "var5 = True\n",
        "var6 = var3 and False\n",
        "result1 = (var1 and var2) and (40 % 3) > 45 or (var5 and var6)\n",
        "result2 = (var1 or var2) or (result1 and False)\n",
        "result3 = (var1 and result1) or result2 or var5\n",
        "result4 = (var1 or var2) or ((var3 and var1) and False)\n",
        "result5 = (var1 and var2) and (result3 or var1)\n",
        "result6 = ((var3 or (not var2)) and (result5)) or True\n",
        "result7 = (var4 and result1) and ((result1 and False) or True)\n",
        "result8 = ((var1 and result3) and ((not var5) or var6)) and True\n",
        "result9 = ((result2 and var2) or ((not result7) and var1)) and not False\n",
        "result10 = not(var1 and True)\n",
        "print(var1)\n",
        "print(var2)\n",
        "print(var3)\n",
        "print(var4)\n",
        "print(var5)\n",
        "print(var6)\n",
        "print(result1)\n",
        "print(result2)\n",
        "print(result3)\n",
        "print(result4)\n",
        "print(result5)\n",
        "print(result6)\n",
        "print(result7)\n",
        "print(result8)\n",
        "print(result9)\n",
        "print(result10)"
      ]
    },
    {
      "cell_type": "code",
      "execution_count": null,
      "metadata": {},
      "outputs": [],
      "source": [
        "#Task_16\n",
        "myList = [0, 0, 0, 0, 0, 0, 0, 0, 0, 0]\n",
        "print('MyList = ',myList)\n",
        "index1 = 0\n",
        "print('index1 = ',index1)\n",
        "index2 = 0\n",
        "print('index2 = ',index2)\n",
        "index1 = 1\n",
        "print('index1 = ',index1)\n",
        "while(index1<10):\n",
        "    myList[index1] = index1+4\n",
        "    print('MyList = ',myList)\n",
        "    index2 = 1\n",
        "    print('index2 = ',index2)\n",
        "    while(index2<index1):\n",
        "        myList[index1] = myList[index1] + myList[index2]-index1\n",
        "        print('MyList = ',myList)\n",
        "        index2 = index2+1\n",
        "        print('index2 = ',index2)\n",
        "    #print(myList[index1])\n",
        "    print('Output = ',myList[index1])\n",
        "    index1 = index1+1\n",
        "    print('index1 = ',index1)"
      ]
    },
    {
      "cell_type": "code",
      "execution_count": null,
      "metadata": {},
      "outputs": [],
      "source": [
        "#Task_17\n",
        "myList = [0, 0, 0, 0, 0, 0, 0, 0, 0, 0]\n",
        "print('MyList = ',myList)\n",
        "index1 = 0\n",
        "print('index1 = ',index1)\n",
        "index2 = 0\n",
        "print('index2 = ',index2)\n",
        "index1 = 1\n",
        "print('index1 = ',index1)\n",
        "while(index1<10):\n",
        "    myList[index1] = index1+4\n",
        "    print('MyList = ',myList)\n",
        "    index2 = 1\n",
        "    print('index2 = ',index2)\n",
        "    while(index2<index1):\n",
        "        myList[index1] = myList[index1-1] + myList[index2-1]-index1\n",
        "        print('MyList = ',myList)\n",
        "        index2 = index2+1\n",
        "        print('index2 = ',index2)\n",
        "    #print(myList[index1])\n",
        "    print('Output = ',myList[index1])\n",
        "    index1 = index1+1\n",
        "    print('index1 = ',index1)"
      ]
    },
    {
      "cell_type": "code",
      "execution_count": null,
      "metadata": {},
      "outputs": [],
      "source": [
        "#Task_18\n",
        "myList = [0, 0, 0, 0, 0, 0, 0, 0, 0, 0]\n",
        "b = []\n",
        "index1 = 0\n",
        "index2 = 0\n",
        "index1 = 1\n",
        "b = myList\n",
        "while(index1<10):\n",
        "    myList[index1] = index1+2\n",
        "    index2 = 1\n",
        "    while(index2<index1):\n",
        "        myList[index1] = b[index1]+myList[index2]-index1\n",
        "        index2 = index2+1\n",
        "    print(myList[index1])\n",
        "    index1 = index1+1"
      ]
    },
    {
      "cell_type": "code",
      "execution_count": null,
      "metadata": {},
      "outputs": [],
      "source": [
        "#Task_19\n",
        "myList = [0, 0, 0, 0, 0, 0, 0, 0, 0, 0]\n",
        "b = []\n",
        "index1 = 0\n",
        "index2 = 0\n",
        "index1 = 1\n",
        "b = myList\n",
        "while (index1 < 10):\n",
        "    myList[index1] = index1 + 1\n",
        "    index2 = 1\n",
        "    while (index2 < index1):\n",
        "        myList[index1] = b[index2-1] + myList[index2] - index1\n",
        "        index2 = index2 + 1\n",
        "    print(myList[index1])\n",
        "    index1 = index1 + 1"
      ]
    }
  ],
  "metadata": {
    "colab": {
      "name": "Assignment_5.ipynb",
      "provenance": []
    },
    "kernelspec": {
      "display_name": "Python 3",
      "name": "python3"
    },
    "language_info": {
      "name": "python",
      "version": "3.8.10"
    }
  },
  "nbformat": 4,
  "nbformat_minor": 0
}
